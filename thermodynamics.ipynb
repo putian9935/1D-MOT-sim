{
 "cells": [
  {
   "cell_type": "code",
   "execution_count": 45,
   "metadata": {},
   "outputs": [],
   "source": [
    "__doc__ = \"\"\"\n",
    "Investigate the temperature relaxation of 1D MOT. \n",
    "\"\"\"\n",
    "\n",
    "\n",
    "import matplotlib.pyplot as plt\n",
    "import csv\n",
    "import numpy as np\n",
    "from tqdm import tqdm\n",
    "\n",
    "\n",
    "class MOT1DSModel:\n",
    "    def __init__(self, s, delta, b):\n",
    "        \"\"\" \n",
    "        Parameters: \n",
    "        s: normalized intensity \n",
    "        delta: normalized detuning \n",
    "        b: coefficient before x \n",
    "        \"\"\"\n",
    "\n",
    "        def prob1(x, u):\n",
    "            tmp = u + b * x\n",
    "            return s / (1 + s + 4 * (delta - tmp)**2) * 1.6  # counter\n",
    "\n",
    "        def prob2(x, u):\n",
    "            tmp = u + b * x\n",
    "            return s / (1 + s + 4 * (delta + tmp)**2) * 1.6\n",
    "\n",
    "        self.prob1 = prob1\n",
    "        self.prob2 = prob2\n",
    "\n",
    "    def simulate(self, u0, step, tot_steps=1000000):\n",
    "        \"\"\"\n",
    "        In a thermodynamic setup, the atoms are assumed to located at the origin; \n",
    "\n",
    "        The SDE is solved with vanilla Euler method   \n",
    "        \"\"\"\n",
    "\n",
    "        ys = [0]\n",
    "        us = [u0]\n",
    "\n",
    "        for _ in tqdm(range(tot_steps)):\n",
    "            delta_u = 0\n",
    "            # scatter a photon with -k\n",
    "            if np.random.rand() < self.prob1(ys[-1], us[-1]) * step:\n",
    "                delta_u += +1/1.6 * (1 + np.cos(np.random.random()*np.pi))\n",
    "            # scatter a photon with +k\n",
    "            if np.random.rand() < self.prob2(ys[-1], us[-1]) * step:\n",
    "                delta_u += -1/1.6 * (1 + np.cos(np.random.random()*np.pi))\n",
    "\n",
    "            ys.append(ys[-1] + us[-1] * step)\n",
    "            us.append(us[-1] + delta_u)\n",
    "\n",
    "        return np.array(ys), np.array(us)\n",
    "\n",
    "\n",
    "def mean_every_n(arr, n):\n",
    "    return np.mean(arr[:(len(arr)//n)*n].reshape(-1, n), axis=1)\n",
    "    \n",
    "def binning(x, max_bin=400):\n",
    "    return np.array([np.std(mean_every_n(x, b))**2 for b in range(1, max_bin)])\n"
   ]
  },
  {
   "cell_type": "markdown",
   "metadata": {},
   "source": [
    "## Tune detuning"
   ]
  },
  {
   "cell_type": "code",
   "execution_count": null,
   "metadata": {},
   "outputs": [],
   "source": [
    "with open('detuning.csv','w') as f:\n",
    "    writer = csv.writer(f)\n",
    "    for delta in np.linspace(0, 100, 200):\n",
    "        writer.writerow([delta, np.mean(MOT1DSModel(284, -delta, .048).simulate(0, .05)[1]**2)]) "
   ]
  },
  {
   "cell_type": "markdown",
   "metadata": {},
   "source": [
    "## Tune intensity"
   ]
  },
  {
   "cell_type": "code",
   "execution_count": null,
   "metadata": {},
   "outputs": [],
   "source": [
    "with open('intensity.csv','w') as f:\n",
    "    writer = csv.writer(f)\n",
    "    for s in np.linspace(0, 500, 200):\n",
    "        writer.writerow([s, np.mean(MOT1DSModel(s, -16, .048).simulate(0, .05)[1]**2)]) "
   ]
  },
  {
   "cell_type": "markdown",
   "metadata": {},
   "source": [
    "## Tune mag grad"
   ]
  },
  {
   "cell_type": "code",
   "execution_count": null,
   "metadata": {},
   "outputs": [],
   "source": [
    "with open('maggrad.csv','w') as f:\n",
    "    writer = csv.writer(f)\n",
    "    for mag in np.linspace(0, 0.15, 200):\n",
    "        writer.writerow([mag, np.mean(MOT1DSModel(284, -16, mag).simulate(0, .05)[1]**2)]) "
   ]
  },
  {
   "cell_type": "markdown",
   "metadata": {},
   "source": [
    "## Original set of parameter"
   ]
  },
  {
   "cell_type": "code",
   "execution_count": 16,
   "metadata": {},
   "outputs": [
    {
     "name": "stderr",
     "output_type": "stream",
     "text": [
      "100%|██████████| 1000000/1000000 [00:04<00:00, 207791.95it/s]\n"
     ]
    }
   ],
   "source": [
    "model = MOT1DSModel(284, -16, .048)\n",
    "ys, us = model.simulate(0, .05)"
   ]
  },
  {
   "cell_type": "code",
   "execution_count": 17,
   "metadata": {},
   "outputs": [
    {
     "data": {
      "image/png": "[encoded data removed]",
      "text/plain": [
       "<Figure size 432x288 with 1 Axes>"
      ]
     },
     "metadata": {
      "needs_background": "light"
     },
     "output_type": "display_data"
    }
   ],
   "source": [
    "plt.plot(us)\n",
    "plt.show()\n"
   ]
  },
  {
   "cell_type": "code",
   "execution_count": 18,
   "metadata": {},
   "outputs": [
    {
     "name": "stderr",
     "output_type": "stream",
     "text": [
      "100%|██████████| 250/250 [00:04<00:00, 59.54it/s]\n"
     ]
    },
    {
     "data": {
      "image/png": "[encoded data removed]",
      "text/plain": [
       "<Figure size 432x288 with 1 Axes>"
      ]
     },
     "metadata": {
      "needs_background": "light"
     },
     "output_type": "display_data"
    }
   ],
   "source": [
    "def autocorr(x, t=1):\n",
    "    return np.corrcoef(np.array([x[:-t], x[t:]]))[0, 1]\n",
    "\n",
    "burnin = 5000\n",
    "ys_burned = ys[burnin:]\n",
    "us_burned = us[burnin:]\n",
    "lags = list(range(1, 5000, 20))\n",
    "plt.plot(lags, [autocorr(us_burned, l) for l in tqdm(lags)])\n",
    "plt.show()"
   ]
  },
  {
   "cell_type": "code",
   "execution_count": 40,
   "metadata": {},
   "outputs": [
    {
     "name": "stdout",
     "output_type": "stream",
     "text": [
      "4.471049916106566\n"
     ]
    },
    {
     "data": {
      "image/png": "[encoded data removed]",
      "text/plain": [
       "<Figure size 432x288 with 1 Axes>"
      ]
     },
     "metadata": {
      "needs_background": "light"
     },
     "output_type": "display_data"
    }
   ],
   "source": [
    "ys_resampled = ys_burned[::100]\n",
    "us_resampled = us_burned[::100]\n",
    "\n",
    "print(np.mean(us_resampled**2))\n",
    "plt.plot(binning(us_resampled**2))\n",
    "plt.show()"
   ]
  },
  {
   "cell_type": "code",
   "execution_count": 41,
   "metadata": {},
   "outputs": [
    {
     "name": "stderr",
     "output_type": "stream",
     "text": [
      "100%|██████████| 1000000/1000000 [00:04<00:00, 205019.43it/s]\n"
     ]
    },
    {
     "data": {
      "text/plain": [
       "3.595798099769593"
      ]
     },
     "execution_count": 41,
     "metadata": {},
     "output_type": "execute_result"
    }
   ],
   "source": [
    "np.mean(MOT1DSModel(84, -16, .048).simulate(0, .05)[1]**2)"
   ]
  }
 ],
 "metadata": {
  "interpreter": {
   "hash": "11f1dc213e07634baa4c5c321dec03c05dafae643c50f20e6d1a492290c05dc2"
  },
  "kernelspec": {
   "display_name": "Python 3.9.8 64-bit",
   "language": "python",
   "name": "python3"
  },
  "language_info": {
   "codemirror_mode": {
    "name": "ipython",
    "version": 3
   },
   "file_extension": ".py",
   "mimetype": "text/x-python",
   "name": "python",
   "nbconvert_exporter": "python",
   "pygments_lexer": "ipython3",
   "version": "3.9.8"
  },
  "orig_nbformat": 4
 },
 "nbformat": 4,
 "nbformat_minor": 2
}
